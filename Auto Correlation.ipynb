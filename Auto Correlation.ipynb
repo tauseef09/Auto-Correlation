{
 "cells": [
  {
   "cell_type": "code",
   "execution_count": 1,
   "metadata": {},
   "outputs": [],
   "source": [
    "import pandas as pd\n",
    "import numpy as np\n",
    "from matplotlib import pyplot as plt\n",
    "import seaborn as sns"
   ]
  },
  {
   "cell_type": "code",
   "execution_count": 2,
   "metadata": {
    "scrolled": true
   },
   "outputs": [
    {
     "data": {
      "text/html": [
       "<div>\n",
       "<style scoped>\n",
       "    .dataframe tbody tr th:only-of-type {\n",
       "        vertical-align: middle;\n",
       "    }\n",
       "\n",
       "    .dataframe tbody tr th {\n",
       "        vertical-align: top;\n",
       "    }\n",
       "\n",
       "    .dataframe thead th {\n",
       "        text-align: right;\n",
       "    }\n",
       "</style>\n",
       "<table border=\"1\" class=\"dataframe\">\n",
       "  <thead>\n",
       "    <tr style=\"text-align: right;\">\n",
       "      <th></th>\n",
       "      <th>DataLine</th>\n",
       "      <th>POS = 0</th>\n",
       "      <th>POS = 1</th>\n",
       "      <th>POS = 2</th>\n",
       "      <th>POS = 3</th>\n",
       "      <th>POS = 4</th>\n",
       "      <th>POS = 5</th>\n",
       "      <th>POS = 6</th>\n",
       "      <th>POS = 7</th>\n",
       "      <th>POS = 8</th>\n",
       "      <th>...</th>\n",
       "      <th>POS = 1007</th>\n",
       "      <th>POS = 1008</th>\n",
       "      <th>POS = 1009</th>\n",
       "      <th>POS = 1010</th>\n",
       "      <th>POS = 1011</th>\n",
       "      <th>POS = 1012</th>\n",
       "      <th>POS = 1013</th>\n",
       "      <th>POS = 1014</th>\n",
       "      <th>POS = 1015</th>\n",
       "      <th>POS = 1016</th>\n",
       "    </tr>\n",
       "  </thead>\n",
       "  <tbody>\n",
       "    <tr>\n",
       "      <th>0</th>\n",
       "      <td>0.000</td>\n",
       "      <td>59.567645</td>\n",
       "      <td>59.596867</td>\n",
       "      <td>59.707011</td>\n",
       "      <td>60.565684</td>\n",
       "      <td>61.188335</td>\n",
       "      <td>58.933756</td>\n",
       "      <td>56.775833</td>\n",
       "      <td>58.686494</td>\n",
       "      <td>60.594906</td>\n",
       "      <td>...</td>\n",
       "      <td>55.728342</td>\n",
       "      <td>54.790995</td>\n",
       "      <td>54.006500</td>\n",
       "      <td>53.435550</td>\n",
       "      <td>54.197566</td>\n",
       "      <td>55.002291</td>\n",
       "      <td>54.948343</td>\n",
       "      <td>54.811225</td>\n",
       "      <td>54.885404</td>\n",
       "      <td>54.799986</td>\n",
       "    </tr>\n",
       "    <tr>\n",
       "      <th>1</th>\n",
       "      <td>0.625</td>\n",
       "      <td>56.272318</td>\n",
       "      <td>57.295083</td>\n",
       "      <td>58.405514</td>\n",
       "      <td>59.722746</td>\n",
       "      <td>60.705050</td>\n",
       "      <td>59.010182</td>\n",
       "      <td>57.128744</td>\n",
       "      <td>56.751107</td>\n",
       "      <td>56.452145</td>\n",
       "      <td>...</td>\n",
       "      <td>54.714568</td>\n",
       "      <td>53.502985</td>\n",
       "      <td>53.395089</td>\n",
       "      <td>53.572668</td>\n",
       "      <td>54.930360</td>\n",
       "      <td>56.092491</td>\n",
       "      <td>54.939352</td>\n",
       "      <td>53.736760</td>\n",
       "      <td>54.190822</td>\n",
       "      <td>54.653877</td>\n",
       "    </tr>\n",
       "    <tr>\n",
       "      <th>2</th>\n",
       "      <td>1.250</td>\n",
       "      <td>52.495954</td>\n",
       "      <td>55.935143</td>\n",
       "      <td>59.207992</td>\n",
       "      <td>58.185226</td>\n",
       "      <td>57.072548</td>\n",
       "      <td>59.716003</td>\n",
       "      <td>62.058247</td>\n",
       "      <td>58.279636</td>\n",
       "      <td>54.197566</td>\n",
       "      <td>...</td>\n",
       "      <td>52.943274</td>\n",
       "      <td>53.507480</td>\n",
       "      <td>54.168344</td>\n",
       "      <td>54.788747</td>\n",
       "      <td>54.973069</td>\n",
       "      <td>55.078718</td>\n",
       "      <td>55.020274</td>\n",
       "      <td>54.867421</td>\n",
       "      <td>54.222292</td>\n",
       "      <td>53.633359</td>\n",
       "    </tr>\n",
       "    <tr>\n",
       "      <th>3</th>\n",
       "      <td>1.875</td>\n",
       "      <td>56.189148</td>\n",
       "      <td>57.893008</td>\n",
       "      <td>59.315888</td>\n",
       "      <td>57.268109</td>\n",
       "      <td>55.337219</td>\n",
       "      <td>58.401019</td>\n",
       "      <td>61.559228</td>\n",
       "      <td>60.019460</td>\n",
       "      <td>58.173987</td>\n",
       "      <td>...</td>\n",
       "      <td>54.348171</td>\n",
       "      <td>54.348171</td>\n",
       "      <td>54.483041</td>\n",
       "      <td>54.638142</td>\n",
       "      <td>54.788747</td>\n",
       "      <td>54.993300</td>\n",
       "      <td>55.699120</td>\n",
       "      <td>56.290301</td>\n",
       "      <td>55.703616</td>\n",
       "      <td>55.155144</td>\n",
       "    </tr>\n",
       "    <tr>\n",
       "      <th>4</th>\n",
       "      <td>2.500</td>\n",
       "      <td>57.971682</td>\n",
       "      <td>58.099809</td>\n",
       "      <td>58.079578</td>\n",
       "      <td>56.555546</td>\n",
       "      <td>54.955087</td>\n",
       "      <td>54.031226</td>\n",
       "      <td>53.491746</td>\n",
       "      <td>56.061022</td>\n",
       "      <td>58.457215</td>\n",
       "      <td>...</td>\n",
       "      <td>51.880047</td>\n",
       "      <td>50.463911</td>\n",
       "      <td>51.086561</td>\n",
       "      <td>52.005926</td>\n",
       "      <td>53.395089</td>\n",
       "      <td>54.674107</td>\n",
       "      <td>54.725807</td>\n",
       "      <td>54.721312</td>\n",
       "      <td>55.361945</td>\n",
       "      <td>55.984595</td>\n",
       "    </tr>\n",
       "  </tbody>\n",
       "</table>\n",
       "<p>5 rows × 1018 columns</p>\n",
       "</div>"
      ],
      "text/plain": [
       "   DataLine    POS = 0    POS = 1    POS = 2    POS = 3    POS = 4    POS = 5  \\\n",
       "0     0.000  59.567645  59.596867  59.707011  60.565684  61.188335  58.933756   \n",
       "1     0.625  56.272318  57.295083  58.405514  59.722746  60.705050  59.010182   \n",
       "2     1.250  52.495954  55.935143  59.207992  58.185226  57.072548  59.716003   \n",
       "3     1.875  56.189148  57.893008  59.315888  57.268109  55.337219  58.401019   \n",
       "4     2.500  57.971682  58.099809  58.079578  56.555546  54.955087  54.031226   \n",
       "\n",
       "     POS = 6    POS = 7    POS = 8  ...  POS = 1007  POS = 1008  POS = 1009  \\\n",
       "0  56.775833  58.686494  60.594906  ...   55.728342   54.790995   54.006500   \n",
       "1  57.128744  56.751107  56.452145  ...   54.714568   53.502985   53.395089   \n",
       "2  62.058247  58.279636  54.197566  ...   52.943274   53.507480   54.168344   \n",
       "3  61.559228  60.019460  58.173987  ...   54.348171   54.348171   54.483041   \n",
       "4  53.491746  56.061022  58.457215  ...   51.880047   50.463911   51.086561   \n",
       "\n",
       "   POS = 1010  POS = 1011  POS = 1012  POS = 1013  POS = 1014  POS = 1015  \\\n",
       "0   53.435550   54.197566   55.002291   54.948343   54.811225   54.885404   \n",
       "1   53.572668   54.930360   56.092491   54.939352   53.736760   54.190822   \n",
       "2   54.788747   54.973069   55.078718   55.020274   54.867421   54.222292   \n",
       "3   54.638142   54.788747   54.993300   55.699120   56.290301   55.703616   \n",
       "4   52.005926   53.395089   54.674107   54.725807   54.721312   55.361945   \n",
       "\n",
       "   POS = 1016  \n",
       "0   54.799986  \n",
       "1   54.653877  \n",
       "2   53.633359  \n",
       "3   55.155144  \n",
       "4   55.984595  \n",
       "\n",
       "[5 rows x 1018 columns]"
      ]
     },
     "execution_count": 2,
     "metadata": {},
     "output_type": "execute_result"
    }
   ],
   "source": [
    "# Reading the data from the csv file in a pandas dataframe\n",
    "df = pd.read_csv('X13_SS_MAP1.csv')\n",
    "# Overview of how the data looks like\n",
    "df.head()"
   ]
  },
  {
   "cell_type": "code",
   "execution_count": 3,
   "metadata": {},
   "outputs": [
    {
     "data": {
      "text/html": [
       "<div>\n",
       "<style scoped>\n",
       "    .dataframe tbody tr th:only-of-type {\n",
       "        vertical-align: middle;\n",
       "    }\n",
       "\n",
       "    .dataframe tbody tr th {\n",
       "        vertical-align: top;\n",
       "    }\n",
       "\n",
       "    .dataframe thead th {\n",
       "        text-align: right;\n",
       "    }\n",
       "</style>\n",
       "<table border=\"1\" class=\"dataframe\">\n",
       "  <thead>\n",
       "    <tr style=\"text-align: right;\">\n",
       "      <th></th>\n",
       "      <th>POS = 0</th>\n",
       "      <th>POS = 1</th>\n",
       "      <th>POS = 2</th>\n",
       "      <th>POS = 3</th>\n",
       "      <th>POS = 4</th>\n",
       "      <th>POS = 5</th>\n",
       "      <th>POS = 6</th>\n",
       "      <th>POS = 7</th>\n",
       "      <th>POS = 8</th>\n",
       "      <th>POS = 9</th>\n",
       "      <th>...</th>\n",
       "      <th>POS = 1007</th>\n",
       "      <th>POS = 1008</th>\n",
       "      <th>POS = 1009</th>\n",
       "      <th>POS = 1010</th>\n",
       "      <th>POS = 1011</th>\n",
       "      <th>POS = 1012</th>\n",
       "      <th>POS = 1013</th>\n",
       "      <th>POS = 1014</th>\n",
       "      <th>POS = 1015</th>\n",
       "      <th>POS = 1016</th>\n",
       "    </tr>\n",
       "  </thead>\n",
       "  <tbody>\n",
       "    <tr>\n",
       "      <th>0</th>\n",
       "      <td>59.567645</td>\n",
       "      <td>59.596867</td>\n",
       "      <td>59.707011</td>\n",
       "      <td>60.565684</td>\n",
       "      <td>61.188335</td>\n",
       "      <td>58.933756</td>\n",
       "      <td>56.775833</td>\n",
       "      <td>58.686494</td>\n",
       "      <td>60.594906</td>\n",
       "      <td>58.000904</td>\n",
       "      <td>...</td>\n",
       "      <td>55.728342</td>\n",
       "      <td>54.790995</td>\n",
       "      <td>54.006500</td>\n",
       "      <td>53.435550</td>\n",
       "      <td>54.197566</td>\n",
       "      <td>55.002291</td>\n",
       "      <td>54.948343</td>\n",
       "      <td>54.811225</td>\n",
       "      <td>54.885404</td>\n",
       "      <td>54.799986</td>\n",
       "    </tr>\n",
       "    <tr>\n",
       "      <th>1</th>\n",
       "      <td>56.272318</td>\n",
       "      <td>57.295083</td>\n",
       "      <td>58.405514</td>\n",
       "      <td>59.722746</td>\n",
       "      <td>60.705050</td>\n",
       "      <td>59.010182</td>\n",
       "      <td>57.128744</td>\n",
       "      <td>56.751107</td>\n",
       "      <td>56.452145</td>\n",
       "      <td>55.492319</td>\n",
       "      <td>...</td>\n",
       "      <td>54.714568</td>\n",
       "      <td>53.502985</td>\n",
       "      <td>53.395089</td>\n",
       "      <td>53.572668</td>\n",
       "      <td>54.930360</td>\n",
       "      <td>56.092491</td>\n",
       "      <td>54.939352</td>\n",
       "      <td>53.736760</td>\n",
       "      <td>54.190822</td>\n",
       "      <td>54.653877</td>\n",
       "    </tr>\n",
       "    <tr>\n",
       "      <th>2</th>\n",
       "      <td>52.495954</td>\n",
       "      <td>55.935143</td>\n",
       "      <td>59.207992</td>\n",
       "      <td>58.185226</td>\n",
       "      <td>57.072548</td>\n",
       "      <td>59.716003</td>\n",
       "      <td>62.058247</td>\n",
       "      <td>58.279636</td>\n",
       "      <td>54.197566</td>\n",
       "      <td>54.044713</td>\n",
       "      <td>...</td>\n",
       "      <td>52.943274</td>\n",
       "      <td>53.507480</td>\n",
       "      <td>54.168344</td>\n",
       "      <td>54.788747</td>\n",
       "      <td>54.973069</td>\n",
       "      <td>55.078718</td>\n",
       "      <td>55.020274</td>\n",
       "      <td>54.867421</td>\n",
       "      <td>54.222292</td>\n",
       "      <td>53.633359</td>\n",
       "    </tr>\n",
       "    <tr>\n",
       "      <th>3</th>\n",
       "      <td>56.189148</td>\n",
       "      <td>57.893008</td>\n",
       "      <td>59.315888</td>\n",
       "      <td>57.268109</td>\n",
       "      <td>55.337219</td>\n",
       "      <td>58.401019</td>\n",
       "      <td>61.559228</td>\n",
       "      <td>60.019460</td>\n",
       "      <td>58.173987</td>\n",
       "      <td>59.331623</td>\n",
       "      <td>...</td>\n",
       "      <td>54.348171</td>\n",
       "      <td>54.348171</td>\n",
       "      <td>54.483041</td>\n",
       "      <td>54.638142</td>\n",
       "      <td>54.788747</td>\n",
       "      <td>54.993300</td>\n",
       "      <td>55.699120</td>\n",
       "      <td>56.290301</td>\n",
       "      <td>55.703616</td>\n",
       "      <td>55.155144</td>\n",
       "    </tr>\n",
       "    <tr>\n",
       "      <th>4</th>\n",
       "      <td>57.971682</td>\n",
       "      <td>58.099809</td>\n",
       "      <td>58.079578</td>\n",
       "      <td>56.555546</td>\n",
       "      <td>54.955087</td>\n",
       "      <td>54.031226</td>\n",
       "      <td>53.491746</td>\n",
       "      <td>56.061022</td>\n",
       "      <td>58.457215</td>\n",
       "      <td>55.505806</td>\n",
       "      <td>...</td>\n",
       "      <td>51.880047</td>\n",
       "      <td>50.463911</td>\n",
       "      <td>51.086561</td>\n",
       "      <td>52.005926</td>\n",
       "      <td>53.395089</td>\n",
       "      <td>54.674107</td>\n",
       "      <td>54.725807</td>\n",
       "      <td>54.721312</td>\n",
       "      <td>55.361945</td>\n",
       "      <td>55.984595</td>\n",
       "    </tr>\n",
       "  </tbody>\n",
       "</table>\n",
       "<p>5 rows × 1017 columns</p>\n",
       "</div>"
      ],
      "text/plain": [
       "     POS = 0    POS = 1    POS = 2    POS = 3    POS = 4    POS = 5  \\\n",
       "0  59.567645  59.596867  59.707011  60.565684  61.188335  58.933756   \n",
       "1  56.272318  57.295083  58.405514  59.722746  60.705050  59.010182   \n",
       "2  52.495954  55.935143  59.207992  58.185226  57.072548  59.716003   \n",
       "3  56.189148  57.893008  59.315888  57.268109  55.337219  58.401019   \n",
       "4  57.971682  58.099809  58.079578  56.555546  54.955087  54.031226   \n",
       "\n",
       "     POS = 6    POS = 7    POS = 8    POS = 9  ...  POS = 1007  POS = 1008  \\\n",
       "0  56.775833  58.686494  60.594906  58.000904  ...   55.728342   54.790995   \n",
       "1  57.128744  56.751107  56.452145  55.492319  ...   54.714568   53.502985   \n",
       "2  62.058247  58.279636  54.197566  54.044713  ...   52.943274   53.507480   \n",
       "3  61.559228  60.019460  58.173987  59.331623  ...   54.348171   54.348171   \n",
       "4  53.491746  56.061022  58.457215  55.505806  ...   51.880047   50.463911   \n",
       "\n",
       "   POS = 1009  POS = 1010  POS = 1011  POS = 1012  POS = 1013  POS = 1014  \\\n",
       "0   54.006500   53.435550   54.197566   55.002291   54.948343   54.811225   \n",
       "1   53.395089   53.572668   54.930360   56.092491   54.939352   53.736760   \n",
       "2   54.168344   54.788747   54.973069   55.078718   55.020274   54.867421   \n",
       "3   54.483041   54.638142   54.788747   54.993300   55.699120   56.290301   \n",
       "4   51.086561   52.005926   53.395089   54.674107   54.725807   54.721312   \n",
       "\n",
       "   POS = 1015  POS = 1016  \n",
       "0   54.885404   54.799986  \n",
       "1   54.190822   54.653877  \n",
       "2   54.222292   53.633359  \n",
       "3   55.703616   55.155144  \n",
       "4   55.361945   55.984595  \n",
       "\n",
       "[5 rows x 1017 columns]"
      ]
     },
     "execution_count": 3,
     "metadata": {},
     "output_type": "execute_result"
    }
   ],
   "source": [
    "# Getting rid of the pivot column\n",
    "df = df.iloc[:, 1:]\n",
    "# Overview of how the sliced dataset look like\n",
    "df.head()"
   ]
  },
  {
   "cell_type": "code",
   "execution_count": 4,
   "metadata": {},
   "outputs": [
    {
     "data": {
      "text/plain": [
       "(1017, 1017)"
      ]
     },
     "execution_count": 4,
     "metadata": {},
     "output_type": "execute_result"
    }
   ],
   "source": [
    "# Verifying the shape of the of our dataset\n",
    "df.shape"
   ]
  },
  {
   "cell_type": "code",
   "execution_count": 5,
   "metadata": {},
   "outputs": [
    {
     "data": {
      "text/plain": [
       "array([46.38730285, 46.41043766, 46.2773733 , ..., 56.36536142,\n",
       "       56.47717633, 56.5390327 ])"
      ]
     },
     "execution_count": 5,
     "metadata": {},
     "output_type": "execute_result"
    }
   ],
   "source": [
    " # Calculating the mean of each row\n",
    "df['mean'] = df.mean(axis=1) \n",
    "\n",
    "# Creating a vector to hold the means\n",
    "mean_arr = df['mean'].to_numpy() \n",
    "\n",
    "# Overview of how the mean_array numpy array looks like\n",
    "mean_arr"
   ]
  },
  {
   "cell_type": "code",
   "execution_count": 6,
   "metadata": {},
   "outputs": [
    {
     "data": {
      "text/plain": [
       "(1017, 1)"
      ]
     },
     "execution_count": 6,
     "metadata": {},
     "output_type": "execute_result"
    }
   ],
   "source": [
    "# Reshaping the array to convert it into a numpy vector \n",
    "mean_arr = mean_arr.reshape((1017, 1))\n",
    "mean_arr.shape"
   ]
  },
  {
   "cell_type": "code",
   "execution_count": 7,
   "metadata": {
    "scrolled": true
   },
   "outputs": [
    {
     "data": {
      "text/plain": [
       "array([[59.56764536, 59.59686722, 59.70701117, ..., 54.81122507,\n",
       "        54.88540365, 54.7999859 ],\n",
       "       [56.27231826, 57.29508349, 58.40551432, ..., 53.73675962,\n",
       "        54.19082243, 54.65387658],\n",
       "       [52.49595433, 55.93514291, 59.20799165, ..., 54.86742097,\n",
       "        54.22229213, 53.63335918],\n",
       "       ...,\n",
       "       [60.98602967, 58.59208468, 56.19364401, ..., 39.61585592,\n",
       "        38.99545327, 38.57960367],\n",
       "       [59.68453282, 59.381075  , 59.12032606, ..., 38.54588614,\n",
       "        39.64957345, 40.83418285],\n",
       "       [59.77219841, 58.35830977, 57.09952179, ..., 39.60686458,\n",
       "        40.57792959, 41.3287067 ]])"
      ]
     },
     "execution_count": 7,
     "metadata": {},
     "output_type": "execute_result"
    }
   ],
   "source": [
    "# Converting the pandas dataframe into a numpy array\n",
    "mat = df.iloc[:, : -1].to_numpy()\n",
    "#Overview of how the data array looks like\n",
    "mat"
   ]
  },
  {
   "cell_type": "code",
   "execution_count": 8,
   "metadata": {},
   "outputs": [
    {
     "data": {
      "text/plain": [
       "(1017, 1017)"
      ]
     },
     "execution_count": 8,
     "metadata": {},
     "output_type": "execute_result"
    }
   ],
   "source": [
    "# Verifying the shape of the mat numpy array\n",
    "mat.shape"
   ]
  },
  {
   "cell_type": "code",
   "execution_count": 9,
   "metadata": {},
   "outputs": [
    {
     "data": {
      "text/plain": [
       "(1017, 1017)"
      ]
     },
     "execution_count": 9,
     "metadata": {},
     "output_type": "execute_result"
    }
   ],
   "source": [
    "# Subtracting the mean from each value\n",
    "corrected_roughness = mat - mean_arr\n",
    "# Verifying the shape of the corrected_roughness numpy array\n",
    "corrected_roughness.shape"
   ]
  },
  {
   "cell_type": "code",
   "execution_count": 10,
   "metadata": {},
   "outputs": [
    {
     "data": {
      "text/plain": [
       "1017"
      ]
     },
     "execution_count": 10,
     "metadata": {},
     "output_type": "execute_result"
    }
   ],
   "source": [
    "x = list()  # list to hold C(t) values for each t\n",
    "for t in range(1017):\n",
    "    count = 0\n",
    "    add = 0\n",
    "    for n in range (1017):\n",
    "        if n + t <= 1016:\n",
    "            add = add + corrected_roughness[t, n] * corrected_roughness[t, n + t]\n",
    "            count = count + 1\n",
    "    x.append(add / count)\n",
    "\n",
    "# Verifying the number of values acquired \n",
    "len(x)"
   ]
  },
  {
   "cell_type": "code",
   "execution_count": 11,
   "metadata": {},
   "outputs": [
    {
     "data": {
      "text/plain": [
       "[<matplotlib.lines.Line2D at 0x1d1bc5af9c8>]"
      ]
     },
     "execution_count": 11,
     "metadata": {},
     "output_type": "execute_result"
    },
    {
     "data": {
      "image/png": "[encoded data removed]",
      "text/plain": [
       "<Figure size 432x288 with 1 Axes>"
      ]
     },
     "metadata": {
      "needs_background": "light"
     },
     "output_type": "display_data"
    }
   ],
   "source": [
    "# Plotting the graph\n",
    "%matplotlib inline\n",
    "plt.plot(x)"
   ]
  },
  {
   "cell_type": "code",
   "execution_count": 12,
   "metadata": {},
   "outputs": [
    {
     "data": {
      "text/plain": [
       "[<matplotlib.lines.Line2D at 0x1d1cd2f84c8>]"
      ]
     },
     "execution_count": 12,
     "metadata": {},
     "output_type": "execute_result"
    },
    {
     "data": {
      "image/png": "[encoded data removed]",
      "text/plain": [
       "<Figure size 432x288 with 1 Axes>"
      ]
     },
     "metadata": {},
     "output_type": "display_data"
    }
   ],
   "source": [
    "# Plotting the same graph but using Seaborn \n",
    "sns.set()\n",
    "plt.plot(x)"
   ]
  }
 ],
 "metadata": {
  "kernelspec": {
   "display_name": "Python 3",
   "language": "python",
   "name": "python3"
  },
  "language_info": {
   "codemirror_mode": {
    "name": "ipython",
    "version": 3
   },
   "file_extension": ".py",
   "mimetype": "text/x-python",
   "name": "python",
   "nbconvert_exporter": "python",
   "pygments_lexer": "ipython3",
   "version": "3.7.6"
  }
 },
 "nbformat": 4,
 "nbformat_minor": 4
}
